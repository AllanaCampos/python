{
 "cells": [
  {
   "cell_type": "code",
   "execution_count": 23,
   "id": "ec56a658-0a68-4ece-b350-73d216cb70ca",
   "metadata": {
    "collapsed": true,
    "jupyter": {
     "outputs_hidden": true
    },
    "tags": []
   },
   "outputs": [
    {
     "name": "stdout",
     "output_type": "stream",
     "text": [
      "\n",
      "==== Menu ====\n",
      "1. Registrar tarefas\n",
      "2. Listar tarefa\n",
      "3. Marcar tarefa como realizada\n",
      "4. Editar tarefa\n",
      "5. Sair\n"
     ]
    },
    {
     "name": "stdin",
     "output_type": "stream",
     "text": [
      "Escolha uma opção:  1\n",
      "Insira a descrição da tarefa:  jhjhg\n"
     ]
    },
    {
     "name": "stdout",
     "output_type": "stream",
     "text": [
      "Tarefa registrada!!! Jhjhg\n",
      "\n",
      "==== Menu ====\n",
      "1. Registrar tarefas\n",
      "2. Listar tarefa\n",
      "3. Marcar tarefa como realizada\n",
      "4. Editar tarefa\n",
      "5. Sair\n"
     ]
    },
    {
     "name": "stdin",
     "output_type": "stream",
     "text": [
      "Escolha uma opção:  1\n",
      "Insira a descrição da tarefa:  ccc\n"
     ]
    },
    {
     "name": "stdout",
     "output_type": "stream",
     "text": [
      "Tarefa registrada!!! Ccc\n",
      "\n",
      "==== Menu ====\n",
      "1. Registrar tarefas\n",
      "2. Listar tarefa\n",
      "3. Marcar tarefa como realizada\n",
      "4. Editar tarefa\n",
      "5. Sair\n"
     ]
    },
    {
     "name": "stdin",
     "output_type": "stream",
     "text": [
      "Escolha uma opção:  2\n"
     ]
    },
    {
     "name": "stdout",
     "output_type": "stream",
     "text": [
      "1.jhjhg [ ]\n",
      "2.ccc [ ]\n",
      "\n",
      "==== Menu ====\n",
      "1. Registrar tarefas\n",
      "2. Listar tarefa\n",
      "3. Marcar tarefa como realizada\n",
      "4. Editar tarefa\n",
      "5. Sair\n"
     ]
    },
    {
     "name": "stdin",
     "output_type": "stream",
     "text": [
      "Escolha uma opção:  3\n"
     ]
    },
    {
     "name": "stdout",
     "output_type": "stream",
     "text": [
      "1.jhjhg [ ]\n",
      "2.ccc [ ]\n"
     ]
    },
    {
     "name": "stdin",
     "output_type": "stream",
     "text": [
      "Qual o id da tarefa que deseja marcar como concluída?:  1\n"
     ]
    },
    {
     "name": "stdout",
     "output_type": "stream",
     "text": [
      "Tarefa marcada como realizada\n",
      "\n",
      "==== Menu ====\n",
      "1. Registrar tarefas\n",
      "2. Listar tarefa\n",
      "3. Marcar tarefa como realizada\n",
      "4. Editar tarefa\n",
      "5. Sair\n"
     ]
    },
    {
     "name": "stdin",
     "output_type": "stream",
     "text": [
      "Escolha uma opção:  2\n"
     ]
    },
    {
     "name": "stdout",
     "output_type": "stream",
     "text": [
      "1.jhjhg [x]\n",
      "2.ccc [ ]\n",
      "\n",
      "==== Menu ====\n",
      "1. Registrar tarefas\n",
      "2. Listar tarefa\n",
      "3. Marcar tarefa como realizada\n",
      "4. Editar tarefa\n",
      "5. Sair\n"
     ]
    },
    {
     "name": "stdin",
     "output_type": "stream",
     "text": [
      "Escolha uma opção:  4\n"
     ]
    },
    {
     "name": "stdout",
     "output_type": "stream",
     "text": [
      "1.jhjhg [x]\n",
      "2.ccc [ ]\n"
     ]
    },
    {
     "name": "stdin",
     "output_type": "stream",
     "text": [
      "Qual o id da tarefa que deseja editar?:  1\n",
      "Nova descrição da tarefa:  aaa\n"
     ]
    },
    {
     "name": "stdout",
     "output_type": "stream",
     "text": [
      "Tarefa editada\n",
      "\n",
      "==== Menu ====\n",
      "1. Registrar tarefas\n",
      "2. Listar tarefa\n",
      "3. Marcar tarefa como realizada\n",
      "4. Editar tarefa\n",
      "5. Sair\n"
     ]
    },
    {
     "name": "stdin",
     "output_type": "stream",
     "text": [
      "Escolha uma opção:  2\n"
     ]
    },
    {
     "name": "stdout",
     "output_type": "stream",
     "text": [
      "1.Aaa [x]\n",
      "2.ccc [ ]\n",
      "\n",
      "==== Menu ====\n",
      "1. Registrar tarefas\n",
      "2. Listar tarefa\n",
      "3. Marcar tarefa como realizada\n",
      "4. Editar tarefa\n",
      "5. Sair\n"
     ]
    },
    {
     "name": "stdin",
     "output_type": "stream",
     "text": [
      "Escolha uma opção:  5\n"
     ]
    },
    {
     "name": "stdout",
     "output_type": "stream",
     "text": [
      "Saindo...\n"
     ]
    }
   ],
   "source": [
    "tarefas = []\n",
    "\n",
    "id = 1  \n",
    "\n",
    "def registrarTarefa():\n",
    "    global id  \n",
    "    descricao = input(\"Insira a descrição da tarefa: \")\n",
    "    tarefas.append((id, descricao, \"[ ]\"))\n",
    "    id += 1\n",
    "    descricao = descricao[0].upper() + descricao[1:]\n",
    "    print(f\"Tarefa registrada!!! {descricao}\")\n",
    "\n",
    "def listarTarefas():\n",
    "    tarefas.sort(key=lambda tarefa: tarefa[0])\n",
    "    for tarefa in tarefas:\n",
    "        print(f\"{tarefa[0]}.{tarefa[1]} {tarefa[2]}\")\n",
    "\n",
    "def marcarConcluida():\n",
    "    listarTarefas()\n",
    "    id = int(input(\"Qual o id da tarefa que deseja marcar como concluída?: \"))\n",
    "    tarefa = tarefas.pop(id - 1)\n",
    "    tarefa = list(tarefa)\n",
    "    tarefa[2] = \"[x]\"\n",
    "    tarefa = tuple(tarefa)\n",
    "    tarefas.insert(0, tarefa)\n",
    "    print(\"Tarefa marcada como realizada\")\n",
    "\n",
    "def editarTarefa():\n",
    "    listarTarefas()\n",
    "    id = int(input(\"Qual o id da tarefa que deseja editar?: \"))\n",
    "    tarefa = tarefas.pop(id - 1)\n",
    "    novaDescricao = input(\"Nova descrição da tarefa: \")\n",
    "    tarefa = list(tarefa)\n",
    "    tarefa[1] = novaDescricao.capitalize()\n",
    "    tarefa = tuple(tarefa)\n",
    "    tarefas.insert(0, tarefa)\n",
    "    print(\"Tarefa editada\")\n",
    "\n",
    "while True:\n",
    "    print(\"\\n==== Menu ====\")\n",
    "    print(\"1. Registrar tarefas\")\n",
    "    print(\"2. Listar tarefa\")\n",
    "    print(\"3. Marcar tarefa como realizada\")\n",
    "    print(\"4. Editar tarefa\")\n",
    "    print(\"5. Sair\")\n",
    "    \n",
    "    opcao = int(input(\"Escolha uma opção: \"))\n",
    "    \n",
    "    if opcao == 1:\n",
    "        registrarTarefa()\n",
    "    elif opcao == 2:\n",
    "        listarTarefas()\n",
    "    elif opcao == 3:\n",
    "        marcarConcluida()\n",
    "    elif opcao == 4:\n",
    "        editarTarefa()\n",
    "    elif opcao == 5:\n",
    "        print(\"Saindo...\")\n",
    "        break  \n",
    "    else:\n",
    "        print(\"Opção inválida. Tente novamente.\")\n",
    "    \n",
    "  \n",
    "        Menu()  \n"
   ]
  },
  {
   "cell_type": "code",
   "execution_count": null,
   "id": "bab91c51-be9e-4310-8462-878f0222ab6c",
   "metadata": {},
   "outputs": [],
   "source": [
    "#Sugestão\n",
    "\n",
    "# Uma sugestão é criar uma função para carregar as tarefas a partir de um arquivo\n",
    "def carregarTarefas():\n",
    "    try:\n",
    "        with open(\"tarefas.txt\", \"r\") as arquivo:\n",
    "            linhas = arquivo.readlines()\n",
    "            tarefas = []\n",
    "            for linha in linhas:\n",
    "                id_tarefa, descricao, status = linha.strip().split(',')\n",
    "                tarefas.append((int(id_tarefa), descricao, status))\n",
    "        return tarefas\n",
    "    except FileNotFoundError:\n",
    "        return []\n",
    "\n",
    "# Uma função para salvar as tarefas no arquivo\n",
    "def salvarTarefas(tarefas):\n",
    "    with open(\"tarefas.txt\", \"w\") as arquivo:\n",
    "        for tarefa in tarefas:\n",
    "            id_tarefa, descricao, status = tarefa\n",
    "            arquivo.write(f\"{id_tarefa},{descricao},{status}\\n\")\n",
    "            \n",
    "# E inicializar a lista de tarefas\n",
    "tarefas = carregarTarefas()\n",
    "#Salvar \n",
    "salvarTarefas(tarefas)"
   ]
  }
 ],
 "metadata": {
  "kernelspec": {
   "display_name": "anaconda-panel-2023.05-py310",
   "language": "python",
   "name": "conda-env-anaconda-panel-2023.05-py310-py"
  },
  "language_info": {
   "codemirror_mode": {
    "name": "ipython",
    "version": 3
   },
   "file_extension": ".py",
   "mimetype": "text/x-python",
   "name": "python",
   "nbconvert_exporter": "python",
   "pygments_lexer": "ipython3",
   "version": "3.11.5"
  }
 },
 "nbformat": 4,
 "nbformat_minor": 5
}
